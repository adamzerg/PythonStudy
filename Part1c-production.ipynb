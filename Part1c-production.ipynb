{
 "cells": [
  {
   "cell_type": "markdown",
   "metadata": {},
   "source": [
    "### Welcome to the Part1c, Database Connection to our Production Environment.<br>\n",
    "\n",
    "Objectives: Do simple CRUD (Create, read, update and delete) to our production environment database.\n",
    "\n",
    "Exercises: A total of four.\n",
    "\n",
    "Expected Time to Finish: 40 mins\n",
    "\n",
    "In this session, we will cover:<br>\n",
    "1. Read for database\n",
    "\n",
    "2. Write for database\n",
    "\n",
    "3. Update for database\n",
    "\n",
    "4. Delete for database\n",
    "\n",
    "5. From one table to another"
   ]
  },
  {
   "cell_type": "markdown",
   "metadata": {},
   "source": [
    "#### 1.1 Create Connection to database\r\n",
    "\r\n",
    "In this section, we will use the pacakge pyodbc to perform CRUD on our database.\r\n"
   ]
  },
  {
   "cell_type": "code",
   "execution_count": 1,
   "metadata": {},
   "outputs": [],
   "source": [
    "import pyodbc ##package for connection\n",
    "import pandas ##package for dataframe manipulation\n",
    "import datetime as dt\n",
    "\n",
    "## Set up your connection string as below\n",
    "conn = pyodbc.connect('Driver={SQL Server};'            # Driver is the ODBC that your PC has installed. For our testing server, let's use SQL Server\n",
    "                      'Server=MMWSREDSTGDWH01,18000;'   # The Server will be the location of the SQL Server. It can be IP address or hostname.\n",
    "                      'Database=DataProduct;'           # Database Name\n",
    "                      'Trusted_Connection=yes;',        # Use Windows Authentication (If you wish to use SQL credentials, specified UID and PWD instead)\n",
    "                      autocommit = True)  \n",
    "\n",
    "# This cursor will be your handy variable to communicate with the database.\n",
    "cursor = conn.cursor()"
   ]
  },
  {
   "cell_type": "markdown",
   "metadata": {},
   "source": [
    "Let's create your own table first"
   ]
  },
  {
   "cell_type": "code",
   "execution_count": 16,
   "metadata": {},
   "outputs": [
    {
     "output_type": "execute_result",
     "data": {
      "text/plain": [
       "<pyodbc.Cursor at 0x26484089730>"
      ]
     },
     "metadata": {},
     "execution_count": 16
    }
   ],
   "source": [
    "#**************Enter your user Id here******************#\n",
    "your_staff_id = 117653\n",
    "#*******************************************************#\n",
    "\n",
    "STAFF_TABLE = f\"[MGMGRAND\\{your_staff_id}]\"\n",
    "\n",
    "cursor.execute(f'''\n",
    "USE DataProduct\n",
    "\n",
    "CREATE TABLE DataProduct.{STAFF_TABLE}.pokemon (\n",
    "id int NOT NULL UNIQUE,\n",
    "name varchar(500),\n",
    "weight numeric(18,2)\n",
    ")\n",
    "INSERT INTO pokemon\n",
    "values (1, 'pikachu', 25)\n",
    "''')"
   ]
  },
  {
   "cell_type": "markdown",
   "metadata": {},
   "source": [
    "#### 1.2 Getting data"
   ]
  },
  {
   "cell_type": "code",
   "execution_count": 17,
   "metadata": {},
   "outputs": [
    {
     "output_type": "stream",
     "name": "stdout",
     "text": [
      "[(1, 'pikachu', Decimal('25.00'))]\n<class 'list'>\n"
     ]
    }
   ],
   "source": [
    "#**************Enter your user Id here******************#\n",
    "your_staff_id = 117653\n",
    "#*******************************************************#\n",
    "\n",
    "STAFF_TABLE = f\"[MGMGRAND\\{your_staff_id}]\"\n",
    "\n",
    "result = cursor.execute(f'select * from DataProduct.{STAFF_TABLE}.pokemon;').fetchall()\n",
    "print (result)\n",
    "print (type(result))"
   ]
  },
  {
   "cell_type": "markdown",
   "metadata": {},
   "source": [
    "![Pikachu Image](https://static.wikia.nocookie.net/school-daze/images/4/4c/Pikachu-PNG-HD.png)"
   ]
  },
  {
   "cell_type": "markdown",
   "metadata": {},
   "source": [
    "As we can see, the cursor return a list of list structure of the result, which is very complicated for us to do manipulation. What can we do?"
   ]
  },
  {
   "cell_type": "markdown",
   "metadata": {},
   "source": [
    "#### 1.3 Reading data using Pandas\n",
    "Even though using pyodbc can get the data from the database, but can we do better?"
   ]
  },
  {
   "cell_type": "code",
   "execution_count": 18,
   "metadata": {},
   "outputs": [
    {
     "output_type": "execute_result",
     "data": {
      "text/plain": [
       "   id     name  weight\n",
       "0   1  pikachu    25.0"
      ],
      "text/html": "<div>\n<style scoped>\n    .dataframe tbody tr th:only-of-type {\n        vertical-align: middle;\n    }\n\n    .dataframe tbody tr th {\n        vertical-align: top;\n    }\n\n    .dataframe thead th {\n        text-align: right;\n    }\n</style>\n<table border=\"1\" class=\"dataframe\">\n  <thead>\n    <tr style=\"text-align: right;\">\n      <th></th>\n      <th>id</th>\n      <th>name</th>\n      <th>weight</th>\n    </tr>\n  </thead>\n  <tbody>\n    <tr>\n      <th>0</th>\n      <td>1</td>\n      <td>pikachu</td>\n      <td>25.0</td>\n    </tr>\n  </tbody>\n</table>\n</div>"
     },
     "metadata": {},
     "execution_count": 18
    }
   ],
   "source": [
    "# Just prepare query like you did in SSMS\n",
    "query = f'select * from DataProduct.{STAFF_TABLE}.pokemon;'\n",
    "\n",
    "result_df = pandas.read_sql_query(query,conn)\n",
    "result_df.head()"
   ]
  },
  {
   "cell_type": "markdown",
   "metadata": {},
   "source": [
    "So the result looks a lot nicer. Using pandas is a good way to get structured data from database."
   ]
  },
  {
   "cell_type": "markdown",
   "metadata": {},
   "source": [
    "#### 2.1 Writing Data\r\n",
    "For inserting data to the database, we will use pyodbc to do so."
   ]
  },
  {
   "cell_type": "code",
   "execution_count": 19,
   "metadata": {},
   "outputs": [
    {
     "output_type": "execute_result",
     "data": {
      "text/plain": [
       "[(1, 'pikachu', Decimal('25.00')), (2, 'charizard', Decimal('250.00'))]"
      ]
     },
     "metadata": {},
     "execution_count": 19
    }
   ],
   "source": [
    "cursor.execute(f'''INSERT INTO [DataProduct].{STAFF_TABLE}.[pokemon] VALUES(2,'charizard', 250.0)''')\n",
    "cursor.execute(f'SELECT * FROM [DataProduct].{STAFF_TABLE}.[pokemon];').fetchall()"
   ]
  },
  {
   "cell_type": "markdown",
   "metadata": {},
   "source": [
    "![Charizard Image](https://cdn.custom-cursor.com/cursors/pokemon_charmander__and_charizard_893.png)"
   ]
  },
  {
   "cell_type": "markdown",
   "metadata": {},
   "source": [
    "#### 2.2 Format you query nicely\r\n",
    "In here, we would like to introduce params method of pyodbc query."
   ]
  },
  {
   "cell_type": "code",
   "execution_count": 20,
   "metadata": {},
   "outputs": [
    {
     "output_type": "execute_result",
     "data": {
      "text/plain": [
       "[(1, 'pikachu', Decimal('25.00')),\n",
       " (2, 'charizard', Decimal('250.00')),\n",
       " (22, 'Gengar', Decimal('58.00'))]"
      ]
     },
     "metadata": {},
     "execution_count": 20
    }
   ],
   "source": [
    "pokemon_id = 22\n",
    "pokemon_name = 'Gengar'\n",
    "\n",
    "query = f\"INSERT INTO [DataProduct].{STAFF_TABLE}.[pokemon] VALUES (?,?,?);\"     # Each ? take one parameter. Beware of the order.\n",
    "cursor.execute(query, (pokemon_id, pokemon_name, 58.0))    # There is 3 ?, so we will prepare 3 variables \n",
    "\n",
    "# Check the Result\n",
    "cursor.execute(f'SELECT * FROM [DataProduct].{STAFF_TABLE}.[pokemon];').fetchall()"
   ]
  },
  {
   "source": [
    "![Gengar Image](https://freepikpsd.com/wp-content/uploads/2019/10/mega-gengar-png-7-Transparent-Images-Free.png)"
   ],
   "cell_type": "code",
   "metadata": {},
   "execution_count": 22,
   "outputs": [
    {
     "output_type": "stream",
     "name": "stderr",
     "text": [
      "'[Gengar' is not recognized as an internal or external command,\noperable program or batch file.\n"
     ]
    }
   ]
  },
  {
   "cell_type": "markdown",
   "metadata": {},
   "source": [
    "#### Exercise 1\n",
    "Imagine you are now classified as a pokemon.\n",
    "\n",
    "Insert a new entry of:\n",
    "\n",
    "(YourStaffID, SomeRandomName, SomeFakeWeight)"
   ]
  },
  {
   "cell_type": "code",
   "execution_count": 23,
   "metadata": {},
   "outputs": [
    {
     "output_type": "execute_result",
     "data": {
      "text/plain": [
       "<pyodbc.Cursor at 0x26484089730>"
      ]
     },
     "metadata": {},
     "execution_count": 23
    }
   ],
   "source": [
    "query = f\"INSERT INTO [DataProduct].{STAFF_TABLE}.[pokemon] VALUES (?,?,?);\"\n",
    "\n",
    "# Insert your code below\n",
    "params = (249,'Lugia',233.6)\n",
    "# End Section\n",
    "\n",
    "cursor.execute(query,params)"
   ]
  },
  {
   "cell_type": "code",
   "execution_count": 25,
   "metadata": {},
   "outputs": [
    {
     "output_type": "execute_result",
     "data": {
      "text/plain": [
       "<pyodbc.Cursor at 0x26484089730>"
      ]
     },
     "metadata": {},
     "execution_count": 25
    }
   ],
   "source": [
    "query = f\"INSERT INTO [DataProduct].{STAFF_TABLE}.[pokemon] VALUES (?,?,?);\"\n",
    "\n",
    "# Insert your code below\n",
    "params = (117653,'Lugia',85)\n",
    "# End Section\n",
    "\n",
    "cursor.execute(query,params)"
   ]
  },
  {
   "cell_type": "code",
   "execution_count": 24,
   "metadata": {},
   "outputs": [
    {
     "output_type": "stream",
     "name": "stdout",
     "text": [
      "Well Done!\n"
     ]
    }
   ],
   "source": [
    "# Check your result!\n",
    "your_row = cursor.execute(f'SELECT * FROM [DataProduct].{STAFF_TABLE}.[pokemon] WHERE id = 249').fetchall()\n",
    "assert len(your_row) == 1\n",
    "print (\"Well Done!\")"
   ]
  },
  {
   "cell_type": "markdown",
   "metadata": {},
   "source": [
    "#### 3.1 Update your tables\r\n",
    "\r\n",
    "Similar to insert, update the record using pyodbc is easy."
   ]
  },
  {
   "cell_type": "code",
   "execution_count": 26,
   "metadata": {},
   "outputs": [
    {
     "output_type": "execute_result",
     "data": {
      "text/plain": [
       "[(1, 'pikachu', Decimal('25.00')),\n",
       " (2, 'charizard', Decimal('250.00')),\n",
       " (22, 'Gengar', Decimal('58.00')),\n",
       " (249, 'Lugia', Decimal('233.60')),\n",
       " (117653, 'Johnny', Decimal('85.00'))]"
      ]
     },
     "metadata": {},
     "execution_count": 26
    }
   ],
   "source": [
    "cursor.execute(f\"UPDATE [DataProduct].{STAFF_TABLE}.[pokemon] SET name = 'Johnny' WHERE id = {your_staff_id}\")\n",
    "cursor.execute(f'SELECT * FROM [DataProduct].{STAFF_TABLE}.[pokemon];').fetchall()"
   ]
  },
  {
   "cell_type": "markdown",
   "metadata": {},
   "source": [
    "You can also use the parameters method!"
   ]
  },
  {
   "cell_type": "code",
   "execution_count": 27,
   "metadata": {},
   "outputs": [
    {
     "output_type": "execute_result",
     "data": {
      "text/plain": [
       "[(1, 'pikachu', Decimal('25.00')),\n",
       " (2, 'charizard', Decimal('250.00')),\n",
       " (22, 'Gengar', Decimal('58.00')),\n",
       " (249, 'Lugia', Decimal('233.60')),\n",
       " (117653, 'bulbasaur', Decimal('85.00'))]"
      ]
     },
     "metadata": {},
     "execution_count": 27
    }
   ],
   "source": [
    " query = f\"UPDATE [DataProduct].{STAFF_TABLE}.[pokemon] SET name = ? WHERE id = ?\"\n",
    " cursor.execute(query, ('bulbasaur', your_staff_id))\n",
    " cursor.execute(f'SELECT * FROM [DataProduct].{STAFF_TABLE}.[pokemon];').fetchall()"
   ]
  },
  {
   "cell_type": "markdown",
   "metadata": {},
   "source": [
    "![Bulbuasaur](https://cdn2.bulbagarden.net/upload/archive/2/21/20191208073140%21001Bulbasaur.png)"
   ]
  },
  {
   "cell_type": "markdown",
   "metadata": {},
   "source": [
    "#### Exercise 2 \r\n",
    "\r\n",
    "Update the name to 'venusaur' for your entry, "
   ]
  },
  {
   "cell_type": "code",
   "execution_count": 28,
   "metadata": {},
   "outputs": [],
   "source": [
    "query = f\"UPDATE [DataProduct].{STAFF_TABLE}.[pokemon] SET name = ? WHERE id = ?\"\n",
    "## Start your code below\n",
    "params = ('venusaur', your_staff_id)\n",
    "\n",
    "## Enter your code\n",
    "\n",
    "## End your code here\n",
    "\n",
    "cursor.execute(query,params)\n",
    "cursor.commit()"
   ]
  },
  {
   "cell_type": "code",
   "execution_count": 29,
   "metadata": {},
   "outputs": [
    {
     "output_type": "stream",
     "name": "stdout",
     "text": [
      "Well Done!\n"
     ]
    }
   ],
   "source": [
    "# Check your result!\n",
    "your_row = cursor.execute(f'SELECT * FROM [DataProduct].{STAFF_TABLE}.[pokemon] WHERE id = ?', (your_staff_id)).fetchall()\n",
    "assert 'venusaur' in your_row[0]\n",
    "print (\"Well Done!\")"
   ]
  },
  {
   "cell_type": "markdown",
   "metadata": {},
   "source": [
    "#### 4.1 Delete records"
   ]
  },
  {
   "cell_type": "code",
   "execution_count": 30,
   "metadata": {},
   "outputs": [
    {
     "output_type": "execute_result",
     "data": {
      "text/plain": [
       "[(1, 'pikachu', Decimal('25.00')),\n",
       " (22, 'Gengar', Decimal('58.00')),\n",
       " (249, 'Lugia', Decimal('233.60')),\n",
       " (117653, 'venusaur', Decimal('85.00'))]"
      ]
     },
     "metadata": {},
     "execution_count": 30
    }
   ],
   "source": [
    "# Just execute the delete statement\n",
    "cursor.execute(f'DELETE FROM [DataProduct].{STAFF_TABLE}.[pokemon] WHERE id = 2')\n",
    "cursor.execute(f'SELECT * FROM [DataProduct].{STAFF_TABLE}.[pokemon]').fetchall()"
   ]
  },
  {
   "cell_type": "markdown",
   "metadata": {},
   "source": [
    "#### Exercise 3\r\n",
    "\r\n",
    "Delete the entry you previous insert"
   ]
  },
  {
   "cell_type": "code",
   "execution_count": 42,
   "metadata": {},
   "outputs": [
    {
     "output_type": "execute_result",
     "data": {
      "text/plain": [
       "<pyodbc.Cursor at 0x26484089730>"
      ]
     },
     "metadata": {},
     "execution_count": 42
    }
   ],
   "source": [
    "query = f'DELETE FROM [DataProduct].{STAFF_TABLE}.[pokemon] WHERE id = ?'\n",
    "## Start your code below ##\n",
    "params = your_staff_id\n",
    "cursor.execute(query, params)\n",
    "## End your code here ##"
   ]
  },
  {
   "cell_type": "code",
   "execution_count": 43,
   "metadata": {},
   "outputs": [
    {
     "output_type": "stream",
     "name": "stdout",
     "text": [
      "Well Done!\n"
     ]
    }
   ],
   "source": [
    "## Check your result!\n",
    "your_row = cursor.execute(f'SELECT * FROM [DataProduct].{STAFF_TABLE}.[pokemon] WHERE id = ?', (your_staff_id)).fetchall()\n",
    "assert len(your_row) == 0\n",
    "print (\"Well Done!\")"
   ]
  },
  {
   "cell_type": "markdown",
   "metadata": {},
   "source": [
    "#### 5. Moving data from one table to other\n",
    "In this section, we will cover the basic process for table manipulation, from one to the other. The format in column 'name' is JSON (similar to the dictionary you have learnt in previous tutorial). \n",
    "\n",
    "JSON (JavaScript Object Notation) is a lightweight data-interchange format. It is easy for humans to read and write. It is easy for machines to parse and generate."
   ]
  },
  {
   "cell_type": "code",
   "execution_count": 44,
   "metadata": {},
   "outputs": [
    {
     "output_type": "display_data",
     "data": {
      "text/plain": "   id                                          name          createDateTime\n0   1      {\"id\": 26,\"name\": \"Raichu\",\"weight\": 60} 2021-05-17 14:56:10.430\n1   3  {\"id\": 493,\"name\": \"Arceus\",\"weight\": 120.3} 2021-05-17 14:59:18.233\n2   2     {\"id\": 133,\"name\": \"Eevee\",\"weight\": 6.5} 2021-05-17 14:57:52.677\n3   4  {\"id\": 448,\"name\": \"Lucario\",\"weight\": 57.5} 2021-05-17 15:00:03.847\n4   5   {\"id\": 58,\"name\": \"Growlithe\",\"weight\": 19} 2021-05-17 15:01:47.077",
      "text/html": "<div>\n<style scoped>\n    .dataframe tbody tr th:only-of-type {\n        vertical-align: middle;\n    }\n\n    .dataframe tbody tr th {\n        vertical-align: top;\n    }\n\n    .dataframe thead th {\n        text-align: right;\n    }\n</style>\n<table border=\"1\" class=\"dataframe\">\n  <thead>\n    <tr style=\"text-align: right;\">\n      <th></th>\n      <th>id</th>\n      <th>name</th>\n      <th>createDateTime</th>\n    </tr>\n  </thead>\n  <tbody>\n    <tr>\n      <th>0</th>\n      <td>1</td>\n      <td>{\"id\": 26,\"name\": \"Raichu\",\"weight\": 60}</td>\n      <td>2021-05-17 14:56:10.430</td>\n    </tr>\n    <tr>\n      <th>1</th>\n      <td>3</td>\n      <td>{\"id\": 493,\"name\": \"Arceus\",\"weight\": 120.3}</td>\n      <td>2021-05-17 14:59:18.233</td>\n    </tr>\n    <tr>\n      <th>2</th>\n      <td>2</td>\n      <td>{\"id\": 133,\"name\": \"Eevee\",\"weight\": 6.5}</td>\n      <td>2021-05-17 14:57:52.677</td>\n    </tr>\n    <tr>\n      <th>3</th>\n      <td>4</td>\n      <td>{\"id\": 448,\"name\": \"Lucario\",\"weight\": 57.5}</td>\n      <td>2021-05-17 15:00:03.847</td>\n    </tr>\n    <tr>\n      <th>4</th>\n      <td>5</td>\n      <td>{\"id\": 58,\"name\": \"Growlithe\",\"weight\": 19}</td>\n      <td>2021-05-17 15:01:47.077</td>\n    </tr>\n  </tbody>\n</table>\n</div>"
     },
     "metadata": {}
    }
   ],
   "source": [
    "poke = pandas.read_sql_query('SELECT * FROM Dataproduct.dbo.pokemon;', conn)\n",
    "display(poke)"
   ]
  },
  {
   "cell_type": "markdown",
   "metadata": {},
   "source": [
    "Let's learn how to read the json format using Python:"
   ]
  },
  {
   "cell_type": "code",
   "execution_count": 45,
   "metadata": {},
   "outputs": [
    {
     "output_type": "stream",
     "name": "stdout",
     "text": [
      "{'id': 26, 'name': 'Raichu', 'weight': 60}\n<class 'dict'>\n26\n"
     ]
    }
   ],
   "source": [
    "import json\n",
    "# load the first row of pokemon's name using json package\n",
    "json_entry = json.loads(poke['name'][0])\n",
    "print (json_entry)\n",
    "print (type(json_entry))\n",
    "print (json_entry['id'])"
   ]
  },
  {
   "cell_type": "markdown",
   "metadata": {},
   "source": [
    "By using JSON package, we are able to read JSON string, and also access the value by the key in the JSON.\n",
    "\n",
    "Then, we will reformat the JSON data and create a clean and usable relational table."
   ]
  },
  {
   "cell_type": "code",
   "execution_count": 46,
   "metadata": {},
   "outputs": [
    {
     "output_type": "execute_result",
     "data": {
      "text/plain": [
       "[(1, 'pikachu', Decimal('25.00')),\n",
       " (26, 'Raichu', Decimal('60.00')),\n",
       " (22, 'Gengar', Decimal('58.00')),\n",
       " (249, 'Lugia', Decimal('233.60')),\n",
       " (493, 'Arceus', Decimal('120.30')),\n",
       " (133, 'Eevee', Decimal('6.50')),\n",
       " (448, 'Lucario', Decimal('57.50')),\n",
       " (58, 'Growlithe', Decimal('19.00'))]"
      ]
     },
     "metadata": {},
     "execution_count": 46
    }
   ],
   "source": [
    "# loop all the row in poke\n",
    "for i in range(len(poke)): \n",
    "    row = json.loads(poke['name'][i])\n",
    "    row_id = row['id']\n",
    "    row_name = row['name']\n",
    "    row_weight = row['weight']\n",
    "    params = (row_id, row_name, row_weight)\n",
    "\n",
    "    cursor.execute(f\"INSERT INTO [DataProduct].{STAFF_TABLE}.[pokemon] VALUES (?,?,?)\",params)\n",
    "\n",
    "cursor.execute(f\"SELECT * FROM DataProduct.{STAFF_TABLE}.pokemon;\").fetchall()"
   ]
  },
  {
   "cell_type": "code",
   "execution_count": null,
   "metadata": {},
   "outputs": [],
   "source": []
  }
 ],
 "metadata": {
  "kernelspec": {
   "name": "python385jvsc74a57bd0b3ba2566441a7c06988d0923437866b63cedc61552a5af99d1f4fb67d367b25f",
   "display_name": "Python 3.8.5 64-bit ('base': conda)"
  },
  "language_info": {
   "name": "python",
   "version": "3.8.5"
  },
  "orig_nbformat": 2,
  "metadata": {
   "interpreter": {
    "hash": "b3ba2566441a7c06988d0923437866b63cedc61552a5af99d1f4fb67d367b25f"
   }
  }
 },
 "nbformat": 4,
 "nbformat_minor": 2
}