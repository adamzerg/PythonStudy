{
 "cells": [
  {
   "cell_type": "markdown",
   "metadata": {},
   "source": [
    "### Welcome to the Introduction to Python!<br>\n",
    "\n",
    "Objectives: Learn Basic Python to further explore the use of this programming language.\n",
    "\n",
    "Exercises: A total of four.\n",
    "\n",
    "Expected Time to Finish: 45 mins\n",
    "\n",
    "In this session, we will cover:<br>\n",
    "1. Print Hello World/variable<br>\n",
    "2. Data type (string, list, tuple, dictionary)<br>\n",
    "3. Conditional/Loop statement (if/else/for)<br>"
   ]
  },
  {
   "cell_type": "code",
   "execution_count": 1,
   "metadata": {},
   "outputs": [
    {
     "output_type": "stream",
     "name": "stdout",
     "text": [
      "Hello World!\n"
     ]
    }
   ],
   "source": [
    "# Printing Hello World, this is an comment\n",
    "print ('Hello World!')"
   ]
  },
  {
   "cell_type": "markdown",
   "metadata": {},
   "source": [
    "#### 1.1 How to Create a String\r\n",
    "Strings are usually created in one of three ways. You can use single, double or triple quotes. "
   ]
  },
  {
   "cell_type": "code",
   "execution_count": 2,
   "metadata": {},
   "outputs": [
    {
     "output_type": "stream",
     "name": "stdout",
     "text": [
      "Welcome to Python! . This is a\nmulti-line string. It covers more than\none line\n"
     ]
    }
   ],
   "source": [
    "my_string = \"Welcome to Python!\"\n",
    "another_string = '.'\n",
    "a_long_string = '''This is a\n",
    "multi-line string. It covers more than\n",
    "one line'''\n",
    "print (my_string, another_string, a_long_string)"
   ]
  },
  {
   "cell_type": "markdown",
   "metadata": {},
   "source": [
    "#### Exercise 1:\n",
    "Please assign the string 'MGM' to variable MGM."
   ]
  },
  {
   "cell_type": "code",
   "execution_count": 3,
   "metadata": {},
   "outputs": [],
   "source": [
    "# This a comment in Python\n",
    "\n",
    "# ******** Please type your code here ******** #\n",
    "\n",
    "MGM = 'MGM'\n",
    "\n",
    "# ******** End ******** #"
   ]
  },
  {
   "cell_type": "code",
   "execution_count": 4,
   "metadata": {},
   "outputs": [
    {
     "output_type": "stream",
     "name": "stdout",
     "text": [
      "Well done!\n"
     ]
    }
   ],
   "source": [
    "assert 'MGM' == MGM, 'Make sure it is all capitalized'\n",
    "print('Well done!')"
   ]
  },
  {
   "cell_type": "markdown",
   "metadata": {},
   "source": [
    "#### 1.2 String Concatenation\r\n",
    "Concatenation is a big word that means to combine or add two things together. In this case, we want to know how to add two strings together. As you might suspect, this operation is very easy in Python:"
   ]
  },
  {
   "cell_type": "code",
   "execution_count": 5,
   "metadata": {},
   "outputs": [
    {
     "output_type": "stream",
     "name": "stdout",
     "text": [
      "My dog ate my homework!\n"
     ]
    }
   ],
   "source": [
    "string_one = \"My dog ate \"\n",
    "string_two = \"my homework!\"\n",
    "string_three = string_one + string_two\n",
    "print (string_three)"
   ]
  },
  {
   "cell_type": "markdown",
   "metadata": {},
   "source": [
    "#### 1.3 String Slicing\n",
    "One subject that you’ll find yourself doing a lot of in the real world is string slicing. Slicing means to extract only a part of your string.\n",
    "\n",
    "<img src=\"https://www.learnbyexample.org/wp-content/uploads/python/Python-String-Slicing-Syntax.png\"/>\n",
    "\n",
    "Index starts from 0!!!\n"
   ]
  },
  {
   "cell_type": "code",
   "execution_count": 6,
   "metadata": {},
   "outputs": [
    {
     "output_type": "stream",
     "name": "stdout",
     "text": [
      "a\nabc\nde\ndefg\nabcde\naceg\ngfedcba\n"
     ]
    }
   ],
   "source": [
    "my_string = \"abcdefg\"\n",
    "print (my_string[0]) # index 0 is a\n",
    "print (my_string[0:3]) # slice does not include end position\n",
    "print (my_string[3:5])\n",
    "print (my_string[3:])\n",
    "print (my_string[:-2])\n",
    "print (my_string[::2]) # 2 means 2 steps (i.e. a -> c)\n",
    "print (my_string[::-1])# -1 means 1 step but in opposite order, equivalent to reverse the string"
   ]
  },
  {
   "cell_type": "markdown",
   "metadata": {},
   "source": [
    "#### 2.1 Different Type of variables\r\n",
    "Besides string, the variable type we use often will be:\r\n",
    "- Integer           (like INTEGER in SQL)\r\n",
    "- Floats            (like DECIMAL in SQL)\r\n",
    "- List \r\n",
    "- Dict"
   ]
  },
  {
   "cell_type": "code",
   "execution_count": 7,
   "metadata": {},
   "outputs": [
    {
     "output_type": "stream",
     "name": "stdout",
     "text": [
      "42 <class 'int'>\n3.14 <class 'float'>\nPython is great. <class 'str'>\n[1, 2, 3, 4, 5, 6] <class 'list'>\n{'Name': 'Bob', 'Age': '42', 'Status': 'Single'} <class 'dict'>\n"
     ]
    }
   ],
   "source": [
    "# Run the code to see the type of variables\n",
    "var1 = 42 \n",
    "var2 = 3.14\n",
    "var3 = \"Python is great.\"\n",
    "var4 = [1,2,3,4,5,6]\n",
    "var5 = {'Name': 'Bob',\n",
    "       'Age': '42',\n",
    "       'Status': 'Single'}\n",
    "\n",
    "# You may use the type() function to check the variable type.\n",
    "print (var1, type(var1))\n",
    "print (var2, type(var2))\n",
    "print (var3, type(var3))\n",
    "print (var4, type(var4))\n",
    "print (var5, type(var5))"
   ]
  },
  {
   "cell_type": "code",
   "execution_count": null,
   "metadata": {},
   "outputs": [],
   "source": []
  },
  {
   "cell_type": "markdown",
   "metadata": {},
   "source": [
    "#### 2.2 Variable type conversion\n",
    "You may change the variable types under valid condition. Some common examples:"
   ]
  },
  {
   "cell_type": "code",
   "execution_count": 8,
   "metadata": {
    "scrolled": true
   },
   "outputs": [
    {
     "output_type": "stream",
     "name": "stdout",
     "text": [
      "42 <class 'int'>\n42 <class 'str'> \n\n42 <class 'str'>\n42 <class 'int'> \n\nI am a number <class 'str'>\n"
     ]
    },
    {
     "output_type": "error",
     "ename": "ValueError",
     "evalue": "invalid literal for int() with base 10: 'I am a number'",
     "traceback": [
      "\u001b[1;31m---------------------------------------------------------------------------\u001b[0m",
      "\u001b[1;31mValueError\u001b[0m                                Traceback (most recent call last)",
      "\u001b[1;32m<ipython-input-8-efb91463076d>\u001b[0m in \u001b[0;36m<module>\u001b[1;34m\u001b[0m\n\u001b[0;32m     14\u001b[0m \u001b[0mvar3\u001b[0m \u001b[1;33m=\u001b[0m \u001b[1;34m'I am a number'\u001b[0m\u001b[1;33m\u001b[0m\u001b[1;33m\u001b[0m\u001b[0m\n\u001b[0;32m     15\u001b[0m \u001b[0mprint\u001b[0m\u001b[1;33m(\u001b[0m\u001b[0mvar3\u001b[0m\u001b[1;33m,\u001b[0m \u001b[0mtype\u001b[0m\u001b[1;33m(\u001b[0m\u001b[0mvar3\u001b[0m\u001b[1;33m)\u001b[0m\u001b[1;33m)\u001b[0m\u001b[1;33m\u001b[0m\u001b[1;33m\u001b[0m\u001b[0m\n\u001b[1;32m---> 16\u001b[1;33m \u001b[0mvar3\u001b[0m \u001b[1;33m=\u001b[0m \u001b[0mint\u001b[0m\u001b[1;33m(\u001b[0m\u001b[0mvar3\u001b[0m\u001b[1;33m)\u001b[0m\u001b[1;33m\u001b[0m\u001b[1;33m\u001b[0m\u001b[0m\n\u001b[0m",
      "\u001b[1;31mValueError\u001b[0m: invalid literal for int() with base 10: 'I am a number'"
     ]
    }
   ],
   "source": [
    "# Number to String\n",
    "var1 = 42\n",
    "print(var1, type(var1))\n",
    "var1 = str(var1)\n",
    "print(var1, type(var1),'\\n')\n",
    "\n",
    "# String to Number\n",
    "var2 = '42'\n",
    "print(var2, type(var2))\n",
    "var2 = int(var2)\n",
    "print(var2, type(var2),'\\n')\n",
    "\n",
    "# The below will result in error\n",
    "var3 = 'I am a number'\n",
    "print(var3, type(var3))\n",
    "var3 = int(var3)"
   ]
  },
  {
   "cell_type": "markdown",
   "metadata": {},
   "source": [
    "#### 2.3 Dig deep to list\r\n",
    "Python has several other important data types that you’ll probably use every day. They are called lists, tuples and dictionaries. <br>\r\n",
    "This chapter’s aim is to get you acquainted with the list type."
   ]
  },
  {
   "cell_type": "code",
   "execution_count": 9,
   "metadata": {},
   "outputs": [
    {
     "output_type": "stream",
     "name": "stdout",
     "text": [
      "[] []\n<class 'list'> <class 'list'>\n"
     ]
    }
   ],
   "source": [
    "my_list = []\n",
    "my_list_too = list()\n",
    "print (my_list, my_list_too)\n",
    "print (type(my_list), type(my_list_too))"
   ]
  },
  {
   "cell_type": "markdown",
   "metadata": {},
   "source": [
    "#### 2.4 Nested List (Lists in List)"
   ]
  },
  {
   "cell_type": "code",
   "execution_count": 10,
   "metadata": {},
   "outputs": [
    {
     "output_type": "execute_result",
     "data": {
      "text/plain": [
       "[[1, 2, 3], ['a', 'b', 'c']]"
      ]
     },
     "metadata": {},
     "execution_count": 10
    }
   ],
   "source": [
    "my_list = [1, 2, 3]\n",
    "my_list2 = [\"a\", \"b\", \"c\"]\n",
    "my_list3 = [\"a\", 1, \"Python\", 5]\n",
    "my_nested_list = [my_list, my_list2]\n",
    "my_nested_list"
   ]
  },
  {
   "cell_type": "markdown",
   "metadata": {},
   "source": [
    "#### 2.5 List Appending and Extending"
   ]
  },
  {
   "cell_type": "code",
   "execution_count": 11,
   "metadata": {},
   "outputs": [
    {
     "output_type": "stream",
     "name": "stdout",
     "text": [
      "[1, 2, 3]\n[1, 2, 3, 'a', 'b', 'c', 'a', 1, 'Python', 5]\n[1, 2, 3, 'a', 'b', 'c', 'a', 1, 'Python', 5, 4, 5]\n"
     ]
    }
   ],
   "source": [
    "print (my_list)\n",
    "\n",
    "# Extend list by list\n",
    "my_list.extend(my_list2)\n",
    "# or\n",
    "my_list = my_list + my_list3\n",
    "print (my_list)\n",
    "\n",
    "# Append new elements\n",
    "my_list.append(4)\n",
    "my_list.append(5)\n",
    "print (my_list)"
   ]
  },
  {
   "cell_type": "markdown",
   "metadata": {},
   "source": [
    "#### 2.6 Sorting a list\n",
    "The following methods do the same thing but the first method manipulates the list directly while the second methond returns a new copy of original list. \n",
    "\n",
    "Be caution if you use [List].sort(), it will return None."
   ]
  },
  {
   "cell_type": "code",
   "execution_count": 12,
   "metadata": {},
   "outputs": [
    {
     "output_type": "stream",
     "name": "stdout",
     "text": [
      "New list:  None\nOriginal list:  [1, 2, 3, 111, 222, 888]\n"
     ]
    }
   ],
   "source": [
    "num_list = [222,111,888,1,2,3]\n",
    "\n",
    "num_list2 = num_list.sort() # return nothing\n",
    "\n",
    "print('New list: ', num_list2)\n",
    "print('Original list: ', num_list)"
   ]
  },
  {
   "cell_type": "code",
   "execution_count": 13,
   "metadata": {},
   "outputs": [
    {
     "output_type": "stream",
     "name": "stdout",
     "text": [
      "New list:  [1, 2, 3, 111, 222, 888]\nOriginal list:  [222, 111, 888, 1, 2, 3]\n"
     ]
    }
   ],
   "source": [
    "num_list = [222,111,888,1,2,3]\n",
    "\n",
    "num_list2 = sorted(num_list) # return a new copy of sorted num_list\n",
    "\n",
    "print('New list: ', num_list2)\n",
    "print('Original list: ', num_list)"
   ]
  },
  {
   "cell_type": "markdown",
   "metadata": {},
   "source": [
    "#### Exercise 2: List Practice\r\n",
    "\r\n",
    "Please create a list same as below, please only use slicing function.\r\n",
    "\r\n",
    "[1,2,3,9,8,7,2,3,4]"
   ]
  },
  {
   "cell_type": "code",
   "execution_count": 20,
   "metadata": {},
   "outputs": [
    {
     "output_type": "execute_result",
     "data": {
      "text/plain": [
       "[1, 2, 3, 9, 8, 7, 2, 3, 4]"
      ]
     },
     "metadata": {},
     "execution_count": 20
    }
   ],
   "source": [
    "#*********Exercise 2 **************/\n",
    "my_list = []\n",
    "list1 = [1,2,3,4,5,6,7]\n",
    "list2 = [7,8,9]\n",
    "\n",
    "my_list = list1[0:3]+list2[::-1]+list1[1:4] # Enter you code here, one line\n"
   ]
  },
  {
   "cell_type": "code",
   "execution_count": 21,
   "metadata": {},
   "outputs": [
    {
     "output_type": "stream",
     "name": "stdout",
     "text": [
      "Well done!\n"
     ]
    }
   ],
   "source": [
    "assert  [1,2,3,9,8,7,2,3,4] == my_list\n",
    "print('Well done!')"
   ]
  },
  {
   "cell_type": "markdown",
   "metadata": {},
   "source": [
    "#### 2.6 Miscellaneous Functions of List"
   ]
  },
  {
   "cell_type": "code",
   "execution_count": 22,
   "metadata": {},
   "outputs": [
    {
     "output_type": "stream",
     "name": "stdout",
     "text": [
      "[1, 2, 3, 9, 8, 7, 2, 3] 4 \n\n[3, 2, 7, 8, 9, 3, 2, 1] \n\n[3, 2, 7, 'Insert Me', 8, 9, 3, 2, 1] \n\n"
     ]
    }
   ],
   "source": [
    "# Pop\n",
    "iAmPopped = my_list.pop()\n",
    "print (my_list, iAmPopped,'\\n')\n",
    "\n",
    "# Reverse\n",
    "my_list.reverse()\n",
    "print (my_list,'\\n')\n",
    "\n",
    "# Insert at index position x\n",
    "my_list.insert(3, 'Insert Me')\n",
    "print (my_list,'\\n')"
   ]
  },
  {
   "cell_type": "markdown",
   "metadata": {},
   "source": [
    "#### 2.7 List Comprehension\n",
    "List have built-in comprehension method that allows you to create a list within a line for specific logic. In other words, list comprehension offers a shorter syntax when you want to create a new list based on the values of an existing list."
   ]
  },
  {
   "cell_type": "code",
   "execution_count": 23,
   "metadata": {},
   "outputs": [
    {
     "output_type": "stream",
     "name": "stdout",
     "text": [
      "[0, 1, 2, 3, 4, 5, 6, 7, 8, 9] \n\n[0, 1, 4, 9, 16]\n"
     ]
    }
   ],
   "source": [
    "my_list = [x for x in range(10)]\n",
    "print (my_list, '\\n')\n",
    "\n",
    "my_list2 = [x**2 for x in range(5)]\n",
    "print (my_list2)"
   ]
  },
  {
   "cell_type": "markdown",
   "metadata": {},
   "source": [
    "#### Exercise 3: Use list comprehension to achieve the result below,\r\n",
    "\r\n",
    "[3, 4, 5, 6, 7, 8, 9, 10, 11, 12]\r\n",
    "\r\n"
   ]
  },
  {
   "cell_type": "code",
   "execution_count": 24,
   "metadata": {},
   "outputs": [],
   "source": [
    "#*********** Exercise 3 ***********/\n",
    "my_list = [x+3 for x in range(10)] # Enter your code here, one line\n",
    "\n",
    "#**********************************/"
   ]
  },
  {
   "cell_type": "code",
   "execution_count": 25,
   "metadata": {},
   "outputs": [
    {
     "output_type": "stream",
     "name": "stdout",
     "text": [
      "Well done!\n"
     ]
    }
   ],
   "source": [
    "assert  [3, 4, 5, 6, 7, 8, 9, 10, 11, 12] == my_list\n",
    "print('Well done!')"
   ]
  },
  {
   "cell_type": "markdown",
   "metadata": {},
   "source": [
    "#### 2.8 Tuples\n",
    "A tuple is created by placing all the items (elements) inside parentheses \"()\", separated by commas. Tuple is basically immutable version of List (you cannot change it once you define it)."
   ]
  },
  {
   "cell_type": "code",
   "execution_count": 26,
   "metadata": {},
   "outputs": [
    {
     "output_type": "stream",
     "name": "stdout",
     "text": [
      "()\n(1, 2, 3)\n(1, 'Hello', 3.4)\n('mouse', [8, 4, 6], (1, 2, 3))\n"
     ]
    }
   ],
   "source": [
    "# Different types of tuples\n",
    "\n",
    "# Empty tuple\n",
    "my_tuple = ()\n",
    "print(my_tuple)\n",
    "\n",
    "# Tuple having integers\n",
    "my_tuple = (1, 2, 3)\n",
    "print(my_tuple)\n",
    "\n",
    "# tuple with mixed datatypes\n",
    "my_tuple = (1, \"Hello\", 3.4)\n",
    "print(my_tuple)\n",
    "\n",
    "# nested tuple\n",
    "my_tuple = (\"mouse\", [8, 4, 6], (1, 2, 3))\n",
    "print(my_tuple)"
   ]
  },
  {
   "cell_type": "markdown",
   "metadata": {},
   "source": [
    "Tuple can be accessed via index, but cannot be assign via index."
   ]
  },
  {
   "cell_type": "code",
   "execution_count": 29,
   "metadata": {},
   "outputs": [
    {
     "output_type": "stream",
     "name": "stdout",
     "text": [
      "7\n"
     ]
    },
    {
     "output_type": "error",
     "ename": "TypeError",
     "evalue": "'tuple' object does not support item assignment",
     "traceback": [
      "\u001b[1;31m---------------------------------------------------------------------------\u001b[0m",
      "\u001b[1;31mTypeError\u001b[0m                                 Traceback (most recent call last)",
      "\u001b[1;32m<ipython-input-29-4cb18f9b5768>\u001b[0m in \u001b[0;36m<module>\u001b[1;34m\u001b[0m\n\u001b[0;32m      1\u001b[0m \u001b[0mmy_tuple\u001b[0m \u001b[1;33m=\u001b[0m \u001b[1;33m(\u001b[0m\u001b[1;36m2\u001b[0m\u001b[1;33m,\u001b[0m\u001b[1;36m3\u001b[0m\u001b[1;33m,\u001b[0m\u001b[1;36m4\u001b[0m\u001b[1;33m,\u001b[0m\u001b[1;36m7\u001b[0m\u001b[1;33m,\u001b[0m\u001b[1;36m6\u001b[0m\u001b[1;33m)\u001b[0m\u001b[1;33m\u001b[0m\u001b[1;33m\u001b[0m\u001b[0m\n\u001b[0;32m      2\u001b[0m \u001b[0mprint\u001b[0m \u001b[1;33m(\u001b[0m\u001b[0mmy_tuple\u001b[0m\u001b[1;33m[\u001b[0m\u001b[1;36m3\u001b[0m\u001b[1;33m]\u001b[0m\u001b[1;33m)\u001b[0m\u001b[1;33m\u001b[0m\u001b[1;33m\u001b[0m\u001b[0m\n\u001b[1;32m----> 3\u001b[1;33m \u001b[0mmy_tuple\u001b[0m\u001b[1;33m[\u001b[0m\u001b[1;36m3\u001b[0m\u001b[1;33m]\u001b[0m \u001b[1;33m=\u001b[0m \u001b[1;36m10\u001b[0m\u001b[1;33m\u001b[0m\u001b[1;33m\u001b[0m\u001b[0m\n\u001b[0m",
      "\u001b[1;31mTypeError\u001b[0m: 'tuple' object does not support item assignment"
     ]
    }
   ],
   "source": [
    "my_tuple = (2,3,4,7,6)\n",
    "print (my_tuple[3])\n",
    "my_tuple[3] = 10"
   ]
  },
  {
   "cell_type": "markdown",
   "metadata": {},
   "source": [
    "#### 2.9 Dictionary\r\n",
    "A Python dictionary is basically a hash table or a hash mapping. In some languages, they might be referred to as associative memories or associative arrays. "
   ]
  },
  {
   "cell_type": "code",
   "execution_count": 30,
   "metadata": {},
   "outputs": [
    {
     "output_type": "stream",
     "name": "stdout",
     "text": [
      "{'one': 1, 'two': 2, 'three': 3}\n"
     ]
    }
   ],
   "source": [
    "my_other_dict = {\"one\":1, \"two\":2, \"three\":3}\n",
    "print (my_other_dict)"
   ]
  },
  {
   "cell_type": "code",
   "execution_count": 31,
   "metadata": {},
   "outputs": [
    {
     "output_type": "stream",
     "name": "stdout",
     "text": [
      "1\nMike\n"
     ]
    }
   ],
   "source": [
    "my_dict = {\"name\":\"Mike\", \"address\":\"123 Happy Way\"}\n",
    "print (my_other_dict[\"one\"])\n",
    "print (my_dict[\"name\"])"
   ]
  },
  {
   "cell_type": "code",
   "execution_count": 32,
   "metadata": {},
   "outputs": [
    {
     "output_type": "stream",
     "name": "stdout",
     "text": [
      "dict_keys(['name', 'address'])\n"
     ]
    }
   ],
   "source": [
    "# Getting keys:\n",
    "print (my_dict.keys())"
   ]
  },
  {
   "cell_type": "markdown",
   "metadata": {},
   "source": [
    "#### 3.1 The if statement\r\n",
    "Python’s if statement is pretty easy to use. Let’s spend a few minutes looking at some examples to better acquaint ourselves with this construct."
   ]
  },
  {
   "cell_type": "code",
   "execution_count": 33,
   "metadata": {},
   "outputs": [
    {
     "output_type": "stream",
     "name": "stdout",
     "text": [
      "So bad\n"
     ]
    }
   ],
   "source": [
    "var1 = 1\n",
    "var2 = 3\n",
    "if var1 > var2:\n",
    "    print(\"This is also True\")  ## Everying inside an if-else statement has to be indented.\n",
    "else:\n",
    "    print (\"So bad\")"
   ]
  },
  {
   "cell_type": "code",
   "execution_count": 34,
   "metadata": {},
   "outputs": [
    {
     "output_type": "stream",
     "name": "stdout",
     "text": [
      "This statement was True\nOh no\n"
     ]
    }
   ],
   "source": [
    "# and/or operation\n",
    "x = 10\n",
    "y = 15\n",
    "if x == 10 and y == 15:\n",
    "    print(\"This statement was True\")\n",
    "else:\n",
    "    print(\"The statement was False!\")\n",
    "    \n",
    "if x > 10 or y < 2:\n",
    "    print (\"Hit the or condition\")\n",
    "else:\n",
    "    print (\"Oh no\")"
   ]
  },
  {
   "cell_type": "code",
   "execution_count": 35,
   "metadata": {},
   "outputs": [
    {
     "output_type": "stream",
     "name": "stdout",
     "text": [
      "This is True!\n"
     ]
    }
   ],
   "source": [
    "# 'in' condition\n",
    "my_list = [1, 2, 3, 4]\n",
    "x = 10\n",
    "z = 11\n",
    "if x not in my_list and z != 10:\n",
    "    print(\"This is True!\")"
   ]
  },
  {
   "cell_type": "markdown",
   "metadata": {},
   "source": [
    "#### 3.2 Loop\r\n",
    "Every programming language I have tried has some kind of looping construct. Most have more than one. The Python world has two types of loops:\r\n",
    "\r\n",
    "- for loop\r\n",
    "- while loop"
   ]
  },
  {
   "cell_type": "code",
   "execution_count": 2,
   "metadata": {},
   "outputs": [
    {
     "output_type": "stream",
     "name": "stdout",
     "text": [
      "0\n1\n2\n3\n4\none\ntwo\nthree\n"
     ]
    }
   ],
   "source": [
    "for number in range(5):\n",
    "    print(number)       ## Same as if-else, everything inside a loop statement has to be indented.\n",
    "    \n",
    "a_dict = {\"one\":1, \"two\":2, \"three\":3}\n",
    "for key in a_dict:\n",
    "    print(key)"
   ]
  },
  {
   "cell_type": "code",
   "execution_count": 37,
   "metadata": {},
   "outputs": [
    {
     "output_type": "stream",
     "name": "stdout",
     "text": [
      "0\n1\n2\n3\n4\n5\n6\n7\n8\n9\n"
     ]
    }
   ],
   "source": [
    "i = 0\n",
    "while i < 10:\n",
    "    print(i)\n",
    "    i = i + 1"
   ]
  },
  {
   "cell_type": "code",
   "execution_count": 38,
   "metadata": {},
   "outputs": [
    {
     "output_type": "stream",
     "name": "stdout",
     "text": [
      "1\n2\nItem found!\n"
     ]
    }
   ],
   "source": [
    "# Mixed Usage\n",
    "\n",
    "my_list = [1, 2, 3, 4, 5]\n",
    "\n",
    "for i in my_list:\n",
    "    if i == 3:\n",
    "        print(\"Item found!\")\n",
    "        break\n",
    "    print(i)\n",
    "else:\n",
    "    print(\"Item not found!\")"
   ]
  },
  {
   "cell_type": "markdown",
   "metadata": {},
   "source": [
    "#### Exercise 4:\n",
    "\n",
    "Write some code to find the biggest number in test_list.\n",
    "\n",
    "Do not use the max() function. Please try using for loop and if-else statement only. (Optional: try to use List.sort() or sorted(List) if you want to challenge yourself)"
   ]
  },
  {
   "cell_type": "code",
   "execution_count": 1,
   "metadata": {},
   "outputs": [
    {
     "output_type": "stream",
     "name": "stdout",
     "text": [
      "7752\n"
     ]
    }
   ],
   "source": [
    "#******************** Exerciese 4 ********************/\n",
    "import random\n",
    "ceiling = random.randint(0,99999)\n",
    "test_list = [random.randint(0,ceiling) for x in range(0,100) ]\n",
    "\n",
    "biggest_number = 0\n",
    "# Enter your code below.\n",
    "\n",
    "for i in test_list:\n",
    "    if i > biggest_number:\n",
    "        biggest_number = i\n",
    "\n",
    "print(biggest_number)\n",
    "\n",
    "#****************************************************/"
   ]
  },
  {
   "cell_type": "code",
   "execution_count": 51,
   "metadata": {},
   "outputs": [
    {
     "output_type": "execute_result",
     "data": {
      "text/plain": [
       "51995"
      ]
     },
     "metadata": {},
     "execution_count": 51
    }
   ],
   "source": [
    "max(test_list)"
   ]
  },
  {
   "cell_type": "code",
   "execution_count": 53,
   "metadata": {},
   "outputs": [
    {
     "output_type": "stream",
     "name": "stdout",
     "text": [
      "Well Done!\n"
     ]
    }
   ],
   "source": [
    "assert biggest_number == max(test_list)\n",
    "print ('Well Done!')"
   ]
  },
  {
   "cell_type": "code",
   "execution_count": null,
   "metadata": {},
   "outputs": [],
   "source": []
  }
 ],
 "metadata": {
  "kernelspec": {
   "name": "python385jvsc74a57bd0b3ba2566441a7c06988d0923437866b63cedc61552a5af99d1f4fb67d367b25f",
   "display_name": "Python 3.8.5 64-bit ('base': conda)"
  },
  "language_info": {
   "name": "python",
   "version": "3.8.5"
  },
  "metadata": {
   "interpreter": {
    "hash": "b3ba2566441a7c06988d0923437866b63cedc61552a5af99d1f4fb67d367b25f"
   }
  }
 },
 "nbformat": 4,
 "nbformat_minor": 4
}